{
 "cells": [
  {
   "cell_type": "markdown",
   "metadata": {},
   "source": [
    "# PARTICIPANTES:\n",
    "* ## CARLOS MENESES\n",
    "* ## PABLO MENDEZ \n",
    "* ## PEDRO JOSE FERNANDEZ\n",
    "\n",
    "\n",
    "\n",
    "\n",
    "\n",
    "\n",
    "\n",
    "# Workflow\n",
    "\n",
    "En esta práctica vamos a aplicar lo aprendido en esta asignatura para crear un flujo que automatice la descarga, análisis y publicación de los datos utilizando distintas herramientas como Zenodo, github y librerías de python para el análisis de datos\n",
    "\n",
    "### Librerías necesarias para la práctica\n",
    "\n",
    "```python\n",
    "import xml.etree.ElementTree as ET\n",
    "import requests\n",
    "import json\n",
    "import zipfile\n",
    "```\n",
    "\n",
    "### Elementos necesarios\n",
    "* Al menos un fichero CSV\n",
    "* Un script de análisis de datos en CSV (Publicado en Github)\n",
    "\n",
    "\n",
    "\n",
    "\n",
    "\n"
   ]
  },
  {
   "cell_type": "markdown",
   "metadata": {},
   "source": [
    "# Publicación de datos iniciales\n",
    "\n",
    "Utilizando Zenodo, de forma manual, publicar los datos que se vayan a utilizar.\n",
    "\n",
    "<div class=\"alert alert-warning\" role=\"alert\" style=\"margin: 10px\">\n",
    "<p>Utilizar Communities para localizar más facilmente los datos</p>\n",
    "</div>\n"
   ]
  },
  {
   "cell_type": "code",
   "execution_count": 153,
   "metadata": {},
   "outputs": [],
   "source": [
    "#hecho"
   ]
  },
  {
   "cell_type": "markdown",
   "metadata": {},
   "source": [
    "# Publicación de script de Análisis\n",
    "\n",
    "En Github + Zenodo"
   ]
  },
  {
   "cell_type": "code",
   "execution_count": 154,
   "metadata": {},
   "outputs": [],
   "source": [
    "#hecho"
   ]
  },
  {
   "cell_type": "markdown",
   "metadata": {},
   "source": [
    "# Descarga de datos\n",
    "\n",
    "Desde Zenodo, utilizando los métodos conocidos (OAI-PMH, API)\n",
    "\n",
    "Pista: url+'?verb=ListRecords&set=nombre_set"
   ]
  },
  {
   "cell_type": "code",
   "execution_count": 155,
   "metadata": {},
   "outputs": [],
   "source": [
    "import xml.etree.ElementTree as ET\n",
    "import requests\n",
    "import json\n",
    "import zipfile\n",
    "import pandas as pd"
   ]
  },
  {
   "cell_type": "code",
   "execution_count": null,
   "metadata": {},
   "outputs": [],
   "source": []
  },
  {
   "cell_type": "code",
   "execution_count": 156,
   "metadata": {},
   "outputs": [
    {
     "name": "stdout",
     "output_type": "stream",
     "text": [
      "[{'bucket': '6db81605-6f1b-4f3a-a3e6-05f01dd2de44', 'checksum': 'md5:a2663c915f9fd9f3ad02c5c3e6f9c3c5', 'key': 'turZo.csv', 'links': {'self': 'https://zenodo.org/api/files/6db81605-6f1b-4f3a-a3e6-05f01dd2de44/turZo.csv'}, 'size': 841738, 'type': 'csv'}]\n"
     ]
    }
   ],
   "source": [
    "headers = {'accept': 'application/json'}\n",
    "r = requests.get('https://zenodo.org/api/records/2541802',headers)\n",
    "record = json.loads(r.text)\n",
    "print(record['files'])"
   ]
  },
  {
   "cell_type": "code",
   "execution_count": 157,
   "metadata": {},
   "outputs": [],
   "source": [
    "link=record['files'][0]['links']['self']"
   ]
  },
  {
   "cell_type": "code",
   "execution_count": 158,
   "metadata": {},
   "outputs": [],
   "source": [
    "response = requests.get(link)\n",
    "if response.status_code == 200:\n",
    "    with open(\"./turZo.csv\", 'wb') as f:\n",
    "        f.write(response.content)"
   ]
  },
  {
   "cell_type": "code",
   "execution_count": null,
   "metadata": {},
   "outputs": [],
   "source": []
  },
  {
   "cell_type": "markdown",
   "metadata": {},
   "source": [
    "# Descarga de código\n",
    "\n",
    "Desde Zenodo, utilizando los métodos conocidos (OAI-PMH, API)\n",
    "\n",
    "<div class=\"alert alert-warning\" role=\"alert\" style=\"margin: 10px\">\n",
    "<p>Zenodo guarda un zip con el código</p>\n",
    "</div>"
   ]
  },
  {
   "cell_type": "code",
   "execution_count": 159,
   "metadata": {},
   "outputs": [
    {
     "name": "stdout",
     "output_type": "stream",
     "text": [
      "[{'bucket': '61b674aa-a3b3-455b-a981-b70ad235b469', 'checksum': 'md5:d754ff52dcbad1898710b2b30593aa74', 'key': 'Cma94/workflou-2.0.zip', 'links': {'self': 'https://zenodo.org/api/files/61b674aa-a3b3-455b-a981-b70ad235b469/Cma94/workflou-2.0.zip'}, 'size': 528, 'type': 'zip'}]\n"
     ]
    }
   ],
   "source": [
    "headers = {'accept': 'application/json'}\n",
    "r = requests.get('https://zenodo.org/api/records/2542000',headers)\n",
    "record = json.loads(r.text)\n",
    "print(record['files'])"
   ]
  },
  {
   "cell_type": "code",
   "execution_count": 160,
   "metadata": {},
   "outputs": [],
   "source": [
    "link=record['files'][0]['links']['self']"
   ]
  },
  {
   "cell_type": "code",
   "execution_count": 161,
   "metadata": {},
   "outputs": [],
   "source": [
    "response = requests.get(link)\n",
    "if response.status_code == 200:\n",
    "    with open(\"./workflou-2.0.zip\", 'wb') as f:\n",
    "        f.write(response.content)"
   ]
  },
  {
   "cell_type": "code",
   "execution_count": 162,
   "metadata": {},
   "outputs": [],
   "source": [
    "zip_ref = zipfile.ZipFile('workflou-2.0.zip', 'r')\n",
    "zip_ref.extractall()\n",
    "zip_ref.close()"
   ]
  },
  {
   "cell_type": "markdown",
   "metadata": {},
   "source": [
    "# Análisis de los datos\n",
    "\n",
    "Producir fichero: Otro CSV, imagen, etc"
   ]
  },
  {
   "cell_type": "code",
   "execution_count": 165,
   "metadata": {},
   "outputs": [],
   "source": [
    "mv Cma94*/tenerife.py ."
   ]
  },
  {
   "cell_type": "code",
   "execution_count": 166,
   "metadata": {},
   "outputs": [],
   "source": [
    "rm -rf Cma94*"
   ]
  },
  {
   "cell_type": "code",
   "execution_count": 167,
   "metadata": {},
   "outputs": [
    {
     "data": {
      "image/png": "[encoded data removed]",
      "text/plain": [
       "<Figure size 432x288 with 1 Axes>"
      ]
     },
     "metadata": {},
     "output_type": "display_data"
    }
   ],
   "source": [
    "%run -i tenerife.py "
   ]
  },
  {
   "cell_type": "markdown",
   "metadata": {},
   "source": [
    "# Publicación de los Datos\n",
    "\n",
    "Utilizando la API de Zenodo"
   ]
  },
  {
   "cell_type": "code",
   "execution_count": null,
   "metadata": {},
   "outputs": [],
   "source": []
  },
  {
   "cell_type": "code",
   "execution_count": 182,
   "metadata": {},
   "outputs": [
    {
     "data": {
      "text/plain": [
       "{'conceptrecid': '2542027',\n",
       " 'created': '2019-01-16T18:08:53.078425+00:00',\n",
       " 'files': [],\n",
       " 'id': 2542028,\n",
       " 'links': {'bucket': 'https://zenodo.org/api/files/a014d063-e9c7-417b-b993-58e0d4516f02',\n",
       "  'discard': 'https://zenodo.org/api/deposit/depositions/2542028/actions/discard',\n",
       "  'edit': 'https://zenodo.org/api/deposit/depositions/2542028/actions/edit',\n",
       "  'files': 'https://zenodo.org/api/deposit/depositions/2542028/files',\n",
       "  'html': 'https://zenodo.org/deposit/2542028',\n",
       "  'latest_draft': 'https://zenodo.org/api/deposit/depositions/2542028',\n",
       "  'latest_draft_html': 'https://zenodo.org/deposit/depositions/2542028',\n",
       "  'publish': 'https://zenodo.org/api/deposit/depositions/2542028/actions/publish',\n",
       "  'self': 'https://zenodo.org/api/deposit/depositions/2542028'},\n",
       " 'metadata': {'prereserve_doi': {'doi': '10.5281/zenodo.2542028',\n",
       "   'recid': 2542028}},\n",
       " 'modified': '2019-01-16T18:08:53.078432+00:00',\n",
       " 'owner': 58110,\n",
       " 'record_id': 2542028,\n",
       " 'state': 'unsubmitted',\n",
       " 'submitted': False,\n",
       " 'title': ''}"
      ]
     },
     "execution_count": 182,
     "metadata": {},
     "output_type": "execute_result"
    }
   ],
   "source": [
    "headers = {\"Content-Type\": \"application/json\"}\n",
    "r = requests.post('https://zenodo.org/api/deposit/depositions',\n",
    "                   params={'access_token': 'bMk99QoimL88XSnXKmegC5NxdGUQ31fo220q5Vm5Nej31NZBX22HaEh0hlQO'}, json={},\n",
    "                   headers=headers)\n",
    "r.status_code\n",
    "r.json()\n"
   ]
  },
  {
   "cell_type": "code",
   "execution_count": 183,
   "metadata": {},
   "outputs": [
    {
     "data": {
      "text/plain": [
       "{'checksum': '986e314079123c3930f3534df2bdb4ba',\n",
       " 'filename': 'tenerife.png',\n",
       " 'filesize': 26715,\n",
       " 'id': 'e4529c05-332d-48d7-b965-555ad2c35868',\n",
       " 'links': {'download': 'https://zenodo.org/api/files/a014d063-e9c7-417b-b993-58e0d4516f02/tenerife.png',\n",
       "  'self': 'https://zenodo.org/api/deposit/depositions/2542028/files/e4529c05-332d-48d7-b965-555ad2c35868'}}"
      ]
     },
     "execution_count": 183,
     "metadata": {},
     "output_type": "execute_result"
    }
   ],
   "source": [
    "# Get the deposition id from the previous response\n",
    "deposition_id = r.json()['id']\n",
    "data = {'filename': 'tenerife.png'}\n",
    "files = {'file': open('tenerife.png', 'rb')}\n",
    "r = requests.post('https://zenodo.org/api/deposit/depositions/%s/files' % deposition_id,\n",
    "                   params={'access_token': 'bMk99QoimL88XSnXKmegC5NxdGUQ31fo220q5Vm5Nej31NZBX22HaEh0hlQO'}, data=data,\n",
    "                   files=files)\n",
    "r.status_code\n",
    "r.json()\n",
    "\n"
   ]
  },
  {
   "cell_type": "code",
   "execution_count": 186,
   "metadata": {},
   "outputs": [
    {
     "data": {
      "text/plain": [
       "200"
      ]
     },
     "execution_count": 186,
     "metadata": {},
     "output_type": "execute_result"
    }
   ],
   "source": [
    "data = {\n",
    "     'metadata': {\n",
    "         'title': 'Tenerife plot',\n",
    "         'upload_type': 'poster',\n",
    "         'description': 'This is my first upload',\n",
    "         'creators': [{'name': 'PCP',\n",
    "                       'affiliation': 'Zenodo'}]\n",
    "     }\n",
    "}\n",
    "r = requests.put('https://zenodo.org/api/deposit/depositions/%s' % deposition_id,\n",
    "                  params={'access_token': 'bMk99QoimL88XSnXKmegC5NxdGUQ31fo220q5Vm5Nej31NZBX22HaEh0hlQO'}, data=json.dumps(data),\n",
    "                  headers=headers)\n",
    "r.status_code\n"
   ]
  },
  {
   "cell_type": "code",
   "execution_count": 187,
   "metadata": {},
   "outputs": [
    {
     "data": {
      "text/plain": [
       "202"
      ]
     },
     "execution_count": 187,
     "metadata": {},
     "output_type": "execute_result"
    }
   ],
   "source": [
    "r = requests.post('https://zenodo.org/api/deposit/depositions/%s/actions/publish' % deposition_id,\n",
    "                      params={'access_token': 'bMk99QoimL88XSnXKmegC5NxdGUQ31fo220q5Vm5Nej31NZBX22HaEh0hlQO'} )\n",
    "r.status_code"
   ]
  },
  {
   "cell_type": "markdown",
   "metadata": {},
   "source": [
    "¿Puedes replicar ese workflow en un sólo bloque con otros datos?"
   ]
  },
  {
   "cell_type": "code",
   "execution_count": null,
   "metadata": {},
   "outputs": [],
   "source": []
  }
 ],
 "metadata": {
  "kernelspec": {
   "display_name": "Python 3",
   "language": "python",
   "name": "python3"
  },
  "language_info": {
   "codemirror_mode": {
    "name": "ipython",
    "version": 3
   },
   "file_extension": ".py",
   "mimetype": "text/x-python",
   "name": "python",
   "nbconvert_exporter": "python",
   "pygments_lexer": "ipython3",
   "version": "3.6.5"
  }
 },
 "nbformat": 4,
 "nbformat_minor": 2
}
